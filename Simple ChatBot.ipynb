{
 "cells": [
  {
   "cell_type": "code",
   "execution_count": 1,
   "metadata": {},
   "outputs": [
    {
     "name": "stderr",
     "output_type": "stream",
     "text": [
      "[nltk_data] Downloading package punkt to\n",
      "[nltk_data]     C:\\Users\\juanm\\AppData\\Roaming\\nltk_data...\n",
      "[nltk_data]   Unzipping tokenizers\\punkt.zip.\n"
     ]
    },
    {
     "name": "stdout",
     "output_type": "stream",
     "text": [
      "You: hello\n",
      "Bot: Hi there!\n",
      "You: how are you\n",
      "Bot: I'm sorry, I don't understand what you're saying.\n",
      "You: good\n",
      "Bot: Glad to hear it!\n",
      "You: not good\n",
      "Bot: Glad to hear it!\n",
      "You: good bye\n",
      "Bot: Glad to hear it!\n",
      "You: bye\n",
      "Bot: Goodbye!\n",
      "You: exit\n"
     ]
    }
   ],
   "source": [
    "import nltk\n",
    "nltk.download('punkt')\n",
    "\n",
    "from nltk.tokenize import word_tokenize\n",
    "\n",
    "# Define a dictionary of possible user inputs and their corresponding responses\n",
    "responses = {\n",
    "    \"hi\": \"Hello!\",\n",
    "    \"hello\": \"Hi there!\",\n",
    "    \"how are you\": \"I'm doing well, thanks for asking. How about you?\",\n",
    "    \"good\": \"Glad to hear it!\",\n",
    "    \"not good\": \"Sorry to hear that. Is there anything I can do to help?\",\n",
    "    \"bye\": \"Goodbye!\",\n",
    "    \"see you later\": \"See you later!\",\n",
    "    \"thanks\": \"You're welcome!\",\n",
    "    \"thank you\": \"You're welcome!\"\n",
    "}\n",
    "\n",
    "# Define a function to handle user input and generate a response\n",
    "def respond(user_input):\n",
    "    tokens = word_tokenize(user_input.lower())\n",
    "    for token in tokens:\n",
    "        if token in responses:\n",
    "            return responses[token]\n",
    "    return \"I'm sorry, I don't understand what you're saying.\"\n",
    "\n",
    "# Define a loop to continuously prompt the user for input and respond to it\n",
    "while True:\n",
    "    user_input = input(\"You: \")\n",
    "    if user_input.lower() in [\"quit\", \"exit\"]:\n",
    "        break\n",
    "    bot_response = respond(user_input)\n",
    "    print(\"Bot: \" + bot_response)\n"
   ]
  },
  {
   "cell_type": "code",
   "execution_count": null,
   "metadata": {},
   "outputs": [],
   "source": []
  }
 ],
 "metadata": {
  "kernelspec": {
   "display_name": "Python 3",
   "language": "python",
   "name": "python3"
  },
  "language_info": {
   "codemirror_mode": {
    "name": "ipython",
    "version": 3
   },
   "file_extension": ".py",
   "mimetype": "text/x-python",
   "name": "python",
   "nbconvert_exporter": "python",
   "pygments_lexer": "ipython3",
   "version": "3.8.5"
  }
 },
 "nbformat": 4,
 "nbformat_minor": 4
}
